{
 "cells": [
  {
   "cell_type": "code",
   "execution_count": 13,
   "id": "27e42555-5b15-4b29-acb4-b62722f150b7",
   "metadata": {},
   "outputs": [],
   "source": [
    "from database.models import Workflow, WorkflowVersion"
   ]
  },
  {
   "cell_type": "code",
   "execution_count": 14,
   "id": "f950b525-c506-47ae-a4a3-9f8bc9c28e00",
   "metadata": {},
   "outputs": [],
   "source": [
    "import boto3\n",
    "from botocore.exceptions import ClientError\n",
    "\n",
    "from urllib.parse import urlparse\n",
    "from tempfile import NamedTemporaryFile"
   ]
  },
  {
   "cell_type": "code",
   "execution_count": 15,
   "id": "363e1395-6f97-4ca2-a0a3-14cb41d73b43",
   "metadata": {},
   "outputs": [],
   "source": [
    "TEST_USER_ID = \"111\"\n",
    "TEST_COLLECTION_ID = \"444\"\n"
   ]
  },
  {
   "cell_type": "code",
   "execution_count": 16,
   "id": "93c8e10b-f1ec-4265-b004-5ba3b3a64e5e",
   "metadata": {},
   "outputs": [],
   "source": [
    "from platformics.database.connect import init_sync_db"
   ]
  },
  {
   "cell_type": "code",
   "execution_count": 17,
   "id": "b1278445-a3ba-4b1b-81eb-8ee64aef949b",
   "metadata": {},
   "outputs": [],
   "source": [
    "def SYNC_DB_URI() -> str:\n",
    "    db_uri = \"postgresql+psycopg://{db_user}:{db_pass}@{db_host}:{db_port}/{db_name}\".format(\n",
    "        db_host=\"localhost\",\n",
    "        db_port=5432,\n",
    "        db_user=\"postgres\",\n",
    "        db_pass=\"password_postgres\",\n",
    "        db_name=\"workflows\",\n",
    "    )\n",
    "    return db_uri\n",
    "\n",
    "sync_db_uri = SYNC_DB_URI()"
   ]
  },
  {
   "cell_type": "code",
   "execution_count": 18,
   "id": "91b6ac85-1ed6-42ad-9f89-94136c680830",
   "metadata": {},
   "outputs": [],
   "source": [
    "app_db = init_sync_db(sync_db_uri)\n",
    "session = app_db.session()"
   ]
  },
  {
   "cell_type": "code",
   "execution_count": 19,
   "id": "0afc9bff-24b1-4c76-b55f-3d5e105923b5",
   "metadata": {},
   "outputs": [],
   "source": [
    "cg_workflow = session.query(Workflow).filter_by(name=\"consensus-genome\").first() or Workflow()\n",
    "cg_workflow.owner_user_id = TEST_USER_ID\n",
    "cg_workflow.collection_id = TEST_COLLECTION_ID\n",
    "cg_workflow.default_version = \"3.4.18\"\n",
    "cg_workflow.minimum_supported_version = \"3.4.18\"\n",
    "\n",
    "session.add(cg_workflow)\n",
    "session.commit()"
   ]
  },
  {
   "cell_type": "code",
   "execution_count": 20,
   "id": "1d5388b1-b518-4808-9e0f-3eaa67c8528d",
   "metadata": {},
   "outputs": [],
   "source": [
    "local_s3 = boto3.client(\"s3\", endpoint_url=\"http://localhost:4000\", region_name=\"us-east-1\")\n",
    "real_s3 = boto3.client(\"s3\")\n",
    "\n",
    "local_s3.upload_file(\"/home/todd/czid-workflows/workflows/consensus-genome/run.wdl\", \"local-bucket\", \"consensus-genome-v3.4.18/run.wdl\")\n",
    "s3_path = \"s3://local-bucket/consensus-genome-v3.4.18/run.wdl\"\n",
    "\n",
    "def transfer(s3_path: str):\n",
    "    parsed = urlparse(s3_path)\n",
    "    bucket, key = parsed.netloc, parsed.path[1:]\n",
    "    try:\n",
    "        local_s3.create_bucket(Bucket=bucket)\n",
    "    except ClientError as e:\n",
    "        if e.response[\"Error\"][\"Code\"] == \"BucketAlreadyOwnedByYou\":\n",
    "            pass\n",
    "        elif e.response[\"Error\"][\"Code\"] == \"BucketAlreadyExists\":\n",
    "            pass\n",
    "        else:\n",
    "            raise e\n",
    "\n",
    "    with NamedTemporaryFile() as f:\n",
    "        real_s3.download_file(bucket, key, f.name)\n",
    "        local_s3.upload_file(f.name, bucket, key)"
   ]
  },
  {
   "cell_type": "code",
   "execution_count": 21,
   "id": "1849eb09-960c-495f-8b05-d78f065fc3a5",
   "metadata": {},
   "outputs": [],
   "source": [
    "local_s3.upload_file(\"/home/todd/czid-workflows/workflows/consensus-genome/integration_test/sample_sars-cov-2_paired_r1.fastq.gz\", \"local-bucket\", \"sample_sars-cov-2_paired_r1.fastq.gz\")\n",
    "local_s3.upload_file(\"/home/todd/czid-workflows/workflows/consensus-genome/integration_test/sample_sars-cov-2_paired_r2.fastq.gz\", \"local-bucket\", \"sample_sars-cov-2_paired_r2.fastq.gz\")"
   ]
  },
  {
   "cell_type": "code",
   "execution_count": 22,
   "id": "0b15776a-051b-4a21-89b3-8a37845fcdbb",
   "metadata": {},
   "outputs": [],
   "source": [
    "with open(\"/home/todd/czid-workflows/workflows/consensus-genome/manifest_simple.yml\") as f:\n",
    "    manifest_str = f.read()"
   ]
  },
  {
   "cell_type": "code",
   "execution_count": 23,
   "id": "e8c4cda4-19aa-4e56-a97c-684a5b11052b",
   "metadata": {},
   "outputs": [],
   "source": [
    "cg_workflow_version = WorkflowVersion(\n",
    "    owner_user_id=TEST_USER_ID,\n",
    "    collection_id=TEST_COLLECTION_ID,\n",
    "    graph_json=\"{}\",\n",
    "    workflow=cg_workflow,\n",
    "    manifest=manifest_str,\n",
    "    workflow_uri=s3_path,\n",
    "\n",
    ")\n",
    "session.add(cg_workflow_version)\n",
    "session.commit()"
   ]
  },
  {
   "cell_type": "code",
   "execution_count": 28,
   "id": "82db54b3-6c00-4526-9727-8c2101f5c93c",
   "metadata": {},
   "outputs": [],
   "source": [
    "with open(\"/home/todd/czid-workflows/workflows/consensus-genome/manifest.yml\") as f:\n",
    "    manifest_str = f.read()\n",
    "cg_workflow_version.manifest = manifest_str\n",
    "session.add(cg_workflow_version)\n",
    "session.commit()"
   ]
  },
  {
   "cell_type": "code",
   "execution_count": 27,
   "id": "d51e48d9-15ed-471e-952e-2da4ff65d389",
   "metadata": {},
   "outputs": [
    {
     "data": {
      "text/plain": [
       "UUID('018d9ad0-e8da-7224-9e65-8016b4fb8b85')"
      ]
     },
     "execution_count": 27,
     "metadata": {},
     "output_type": "execute_result"
    }
   ],
   "source": [
    "cg_workflow_version.id"
   ]
  },
  {
   "cell_type": "code",
   "execution_count": null,
   "id": "a51c3b54-0b79-42dc-8b75-019bc6ec7af5",
   "metadata": {},
   "outputs": [],
   "source": []
  },
  {
   "cell_type": "code",
   "execution_count": null,
   "id": "f2c13bc9-60db-4448-968a-32fee71656ff",
   "metadata": {},
   "outputs": [],
   "source": [
    "        return {\n",
    "          \"fastqs_0\": \"/home/todd/czid-workflows/workflows/consensus-genome/integration_test/blank.fastq.gz\",\n",
    "          \"sample\": \"test_sample\",\n",
    "          \"technology\": \"ONT\"\n",
    "        }"
   ]
  }
 ],
 "metadata": {
  "kernelspec": {
   "display_name": "Python 3 (ipykernel)",
   "language": "python",
   "name": "python3"
  },
  "language_info": {
   "codemirror_mode": {
    "name": "ipython",
    "version": 3
   },
   "file_extension": ".py",
   "mimetype": "text/x-python",
   "name": "python",
   "nbconvert_exporter": "python",
   "pygments_lexer": "ipython3",
   "version": "3.11.7"
  }
 },
 "nbformat": 4,
 "nbformat_minor": 5
}
